{
 "cells": [
  {
   "cell_type": "code",
   "execution_count": 23,
   "metadata": {},
   "outputs": [
    {
     "data": {
      "text/plain": [
       "Loan_ID               0\n",
       "Gender               13\n",
       "Married               3\n",
       "Dependents           15\n",
       "Education             0\n",
       "Self_Employed        32\n",
       "ApplicantIncome       0\n",
       "CoapplicantIncome     0\n",
       "LoanAmount           22\n",
       "Loan_Amount_Term     14\n",
       "Credit_History       50\n",
       "Property_Area         0\n",
       "LoanStatus            0\n",
       "dtype: int64"
      ]
     },
     "execution_count": 23,
     "metadata": {},
     "output_type": "execute_result"
    }
   ],
   "source": [
    "# Intro to Machine Learning CS 4347   Chichi Christine\n",
    "import numpy as np\n",
    "np.seterr(divide='ignore')\n",
    "import math\n",
    "import pandas as pd\n",
    "from sklearn.model_selection import train_test_split\n",
    "from sklearn.preprocessing import OneHotEncoder\n",
    "from sklearn.linear_model import LogisticRegression\n",
    "from sklearn.preprocessing import StandardScaler\n",
    "from sklearn import metrics\n",
    "import matplotlib.pyplot as plt\n",
    "import seaborn as sns\n",
    "\n",
    "data = pd.read_csv('train.csv')\n",
    "data.apply(lambda x: sum(x.isnull()),axis=0) \n",
    "# checking missing values in each column of train dataset"
   ]
  },
  {
   "cell_type": "code",
   "execution_count": 23,
   "metadata": {},
   "outputs": [
    {
     "data": {
      "text/plain": [
       "Loan_ID               0\n",
       "Gender               13\n",
       "Married               3\n",
       "Dependents           15\n",
       "Education             0\n",
       "Self_Employed        32\n",
       "ApplicantIncome       0\n",
       "CoapplicantIncome     0\n",
       "LoanAmount           22\n",
       "Loan_Amount_Term     14\n",
       "Credit_History       50\n",
       "Property_Area         0\n",
       "LoanStatus            0\n",
       "dtype: int64"
      ]
     },
     "execution_count": 23,
     "metadata": {},
     "output_type": "execute_result"
    }
   ],
   "source": [
    "# the correlation matrix for the dataset \n",
    "sns.heatmap(data.corr())"
   ]
  },
  {
   "cell_type": "code",
   "execution_count": 24,
   "metadata": {},
   "outputs": [
    {
     "data": {
      "text/plain": [
       "Loan_ID              0\n",
       "Gender               0\n",
       "Married              0\n",
       "Dependents           0\n",
       "Education            0\n",
       "Self_Employed        0\n",
       "ApplicantIncome      0\n",
       "CoapplicantIncome    0\n",
       "LoanAmount           0\n",
       "Loan_Amount_Term     0\n",
       "Credit_History       0\n",
       "Property_Area        0\n",
       "LoanStatus           0\n",
       "dtype: int64"
      ]
     },
     "execution_count": 24,
     "metadata": {},
     "output_type": "execute_result"
    }
   ],
   "source": [
    "data.Gender = data.Gender.fillna('Male')\n",
    "data.Married = data.Married.fillna('Yes')\n",
    "data.Dependents = data.Dependents.fillna('0')\n",
    "data.Self_Employed = data.Self_Employed.fillna('No')\n",
    "data.LoanAmount = data.LoanAmount.fillna(data.LoanAmount.mean())\n",
    "data.Loan_Amount_Term = data.Loan_Amount_Term.fillna(360.0)\n",
    "data.Credit_History = data.Credit_History.fillna(1.0)\n",
    "data.apply(lambda x: sum(x.isnull()),axis=0)"
   ]
  },
  {
   "cell_type": "code",
   "execution_count": 25,
   "metadata": {},
   "outputs": [
    {
     "data": {
      "text/plain": [
       "array([[ 46,   0],\n",
       "       [  0, 108]], dtype=int64)"
      ]
     },
     "execution_count": 25,
     "metadata": {},
     "output_type": "execute_result"
    },
    {
     "data": {
      "image/png": "[encoded data removed]",
      "text/plain": [
       "<Figure size 432x288 with 2 Axes>"
      ]
     },
     "metadata": {
      "needs_background": "light"
     },
     "output_type": "display_data"
    }
   ],
   "source": [
    "y = data['LoanStatus']\n",
    "# Clean data\n",
    "# Replace the categorical values with the numeric equivalents \n",
    "categoricalFeatures = ['Loan_ID', 'Property_Area', 'Gender', 'Married', 'Dependents', \n",
    "                       'Education', 'Self_Employed', 'LoanStatus']\n",
    "\n",
    "# Iterate through the list of categorical features and one hot encode them.\n",
    "for feature in categoricalFeatures:\n",
    "    onehot = pd.get_dummies(data[feature], prefix=feature)\n",
    "    data = data.drop(feature, axis=1)  # drop the column\n",
    "    data = data.join(onehot)\n",
    "    \n",
    "# Instantiate a Logistic Regression object and split the dataset 75-25, train-test\n",
    "# Liblinear is a solver for smaller datasets.\n",
    "lr = LogisticRegression(solver='liblinear', class_weight='balanced')\n",
    "\n",
    "# feature scaling\n",
    "scaler = StandardScaler()\n",
    "data_std = scaler.fit_transform(data)\n",
    "featurex = data[data.columns[~data.columns.isin(['LoanStatus'])]] #Except Label\n",
    "\n",
    "X_train,X_test,y_train,y_test = train_test_split(featurex, y, test_size=0.25)\n",
    "\n",
    "# Fit the model to the training data.\n",
    "lr.fit(X_train, y_train)\n",
    "\n",
    "# We will compare this vector of predictions to the actual values to determine the model performance.\n",
    "y_pred = lr.predict(X_test)\n",
    "\n",
    "# Build the confusion matrix.\n",
    "confusion_matrix = metrics.confusion_matrix(y_test, y_pred)\n",
    "class_names=[0,1] # name of classes\n",
    "fig, ax = plt.subplots()\n",
    "tick_marks = np.arange(len(class_names))\n",
    "plt.xticks(tick_marks, class_names)\n",
    "plt.yticks(tick_marks, class_names)\n",
    "\n",
    "# The heatmap requires that we pass in a dataframe as the argument\n",
    "sns.heatmap(pd.DataFrame(confusion_matrix), annot=True, cmap=\"YlGnBu\")\n",
    "\n",
    "# Configure the heatmap parameters\n",
    "ax.xaxis.set_label_position(\"top\")\n",
    "plt.tight_layout()\n",
    "plt.title('Confusion matrix', y=1.1)\n",
    "plt.ylabel('Actual label')\n",
    "plt.xlabel('Predicted label')\n",
    "confusion_matrix\n"
   ]
  },
  {
   "cell_type": "code",
   "execution_count": 26,
   "metadata": {},
   "outputs": [
    {
     "name": "stdout",
     "output_type": "stream",
     "text": [
      "1.0\n"
     ]
    }
   ],
   "source": [
    "confusion_matrix\n",
    "accu = metrics.accuracy_score(y_pred, y_test)\n",
    "print(accu)"
   ]
  },
  {
   "cell_type": "code",
   "execution_count": null,
   "metadata": {},
   "outputs": [],
   "source": []
  }
 ],
 "metadata": {
  "kernelspec": {
   "display_name": "Python 3",
   "language": "python",
   "name": "python3"
  },
  "language_info": {
   "codemirror_mode": {
    "name": "ipython",
    "version": 3
   },
   "file_extension": ".py",
   "mimetype": "text/x-python",
   "name": "python",
   "nbconvert_exporter": "python",
   "pygments_lexer": "ipython3",
   "version": "3.7.3"
  }
 },
 "nbformat": 4,
 "nbformat_minor": 4
}
